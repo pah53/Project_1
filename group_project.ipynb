{
 "cells": [
  {
   "cell_type": "code",
   "execution_count": 3,
   "metadata": {},
   "outputs": [
    {
     "name": "stdout",
     "output_type": "stream",
     "text": [
      "   ID       Name Sex   Age  Height  Weight Country  NOC        Games  Year_x  \\\n",
      "0   1  A Dijiang   M  24.0   180.0    80.0   China  CHN  1992 Summer    1992   \n",
      "1   1  A Dijiang   M  24.0   180.0    80.0   China  CHN  1992 Summer    1992   \n",
      "2   1  A Dijiang   M  24.0   180.0    80.0   China  CHN  1992 Summer    1992   \n",
      "3   1  A Dijiang   M  24.0   180.0    80.0   China  CHN  1992 Summer    1992   \n",
      "4   1  A Dijiang   M  24.0   180.0    80.0   China  CHN  1992 Summer    1992   \n",
      "\n",
      "   ...                        Event Medal countrycode Year_y GDP PC rgdpnapc  \\\n",
      "0  ...  Basketball Men's Basketball   NaN         CHN      1    NaN      NaN   \n",
      "1  ...  Basketball Men's Basketball   NaN         CHN   1000    NaN      NaN   \n",
      "2  ...  Basketball Men's Basketball   NaN         CHN   1500    NaN      NaN   \n",
      "3  ...  Basketball Men's Basketball   NaN         CHN   1600    NaN      NaN   \n",
      "4  ...  Basketball Men's Basketball   NaN         CHN   1661  940.0   1083.0   \n",
      "\n",
      "   Population         i_cig  Total GDP  i_bm  \n",
      "0     59600.0           NaN        0.0   NaN  \n",
      "1     59000.0           NaN        0.0   NaN  \n",
      "2    103000.0           NaN        0.0   NaN  \n",
      "3    160000.0           NaN        0.0   NaN  \n",
      "4         NaN  Extrapolated        0.0   NaN  \n",
      "\n",
      "[5 rows x 23 columns]\n"
     ]
    }
   ],
   "source": [
    "# Dependencies and Setup\n",
    "import matplotlib.pyplot as plt\n",
    "import pandas as pd\n",
    "import scipy.stats as st\n",
    "import numpy as np\n",
    "\n",
    "# Read in CSV files\n",
    "olympic_data = \"Resources/olympic_data.csv\"\n",
    "gdp_data = \"Resources/gdp_data.csv\"\n",
    "\n",
    "# Creating data frames\n",
    "olympic_df = pd.read_csv(olympic_data)\n",
    "gdp_df = pd.read_csv(gdp_data)\n",
    "\n",
    "# Combine the data into a single dataset\n",
    "merge_table = pd.merge(olympic_df, gdp_df, on=\"Country\")\n",
    "print(merge_table.head(5))"
   ]
  },
  {
   "cell_type": "code",
   "execution_count": null,
   "metadata": {},
   "outputs": [],
   "source": []
  }
 ],
 "metadata": {
  "kernelspec": {
   "display_name": "Python 3",
   "language": "python",
   "name": "python3"
  },
  "language_info": {
   "codemirror_mode": {
    "name": "ipython",
    "version": 3
   },
   "file_extension": ".py",
   "mimetype": "text/x-python",
   "name": "python",
   "nbconvert_exporter": "python",
   "pygments_lexer": "ipython3",
   "version": "3.7.3"
  }
 },
 "nbformat": 4,
 "nbformat_minor": 2
}
