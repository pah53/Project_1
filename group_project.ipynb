{
 "cells": [
  {
   "cell_type": "code",
   "execution_count": 3,
   "metadata": {},
   "outputs": [
    {
     "name": "stdout",
     "output_type": "stream",
     "text": [
      "      ID            Name Sex   Age  Height  Weight Country        Games  Year  \\\n",
      "0      1       A Dijiang   M  24.0   180.0    80.0   China  1992 Summer  1992   \n",
      "1   6848  Bai Chongguang   M  21.0   184.0    83.0   China  1992 Summer  1992   \n",
      "2   6854         Bai Mei   F  17.0   166.0    46.0   China  1992 Summer  1992   \n",
      "3  11225        Bi Zhong   M  23.0   188.0   110.0   China  1992 Summer  1992   \n",
      "4  17295      Cai Yanshu   M  28.0   169.0    79.0   China  1992 Summer  1992   \n",
      "\n",
      "   Season       City                Sport  \\\n",
      "0  Summer  Barcelona           Basketball   \n",
      "1  Summer  Barcelona               Boxing   \n",
      "2  Summer  Barcelona  Rhythmic Gymnastics   \n",
      "3  Summer  Barcelona            Athletics   \n",
      "4  Summer  Barcelona        Weightlifting   \n",
      "\n",
      "                                    Event Medal  GDP PC  Population  \\\n",
      "0             Basketball Men's Basketball   NaN  2731.0   1163363.0   \n",
      "1          Boxing Men's Light-Heavyweight   NaN  2731.0   1163363.0   \n",
      "2  Rhythmic Gymnastics Women's Individual   NaN  2731.0   1163363.0   \n",
      "3            Athletics Men's Hammer Throw   NaN  2731.0   1163363.0   \n",
      "4   Weightlifting Men's Light-Heavyweight   NaN  2731.0   1163363.0   \n",
      "\n",
      "      Total GDP  \n",
      "0  3.180000e+12  \n",
      "1  3.180000e+12  \n",
      "2  3.180000e+12  \n",
      "3  3.180000e+12  \n",
      "4  3.180000e+12  \n"
     ]
    }
   ],
   "source": [
    "# Dependencies and Setup\n",
    "import matplotlib.pyplot as plt\n",
    "import pandas as pd\n",
    "import scipy.stats as st\n",
    "import numpy as np\n",
    "\n",
    "# Read in CSV files\n",
    "olympic_data = \"Resources/olympic_data.csv\"\n",
    "gdp_data = \"Resources/gdp_data.csv\"\n",
    "\n",
    "# Creating data frames\n",
    "olympic_df = pd.read_csv(olympic_data)\n",
    "gdp_df = pd.read_csv(gdp_data)\n",
    "\n",
    "# Combine the data into a single dataset\n",
    "merge_table = pd.merge(olympic_df, gdp_df, on=[\"Country\", \"Year\"])\n",
    "print(merge_table.head(5))"
   ]
  },
  {
   "cell_type": "code",
   "execution_count": null,
   "metadata": {},
   "outputs": [],
   "source": [
    "#emma - demographic overview\n"
   ]
  },
  {
   "cell_type": "code",
   "execution_count": null,
   "metadata": {},
   "outputs": [],
   "source": [
    "#ashley - heat map\n"
   ]
  },
  {
   "cell_type": "code",
   "execution_count": null,
   "metadata": {},
   "outputs": [],
   "source": [
    "#emma - medal wins correlation with bmi\n"
   ]
  },
  {
   "cell_type": "code",
   "execution_count": null,
   "metadata": {},
   "outputs": [],
   "source": [
    "#peter - gdp correlation with medals\n",
    "\n",
    "\n",
    "\n",
    "#y axis is medals won, x axis is GDP by country.\n",
    "# either going to have to do a series of graphs, each representing a period of say 50 years,\n",
    "# or do a comparison between specific times in history, e.g. WWII vs today\n",
    "#or, if possible you could try to do one of those graphs where multiple time periods are shown in one graph\n",
    "#e.g. https://coderwall.com/p/fkod2a/olympics-data-visualization-in-paper-js"
   ]
  },
  {
   "cell_type": "code",
   "execution_count": null,
   "metadata": {},
   "outputs": [],
   "source": [
    "#peter - medal winnings over time by a country, e.g. south korea, and how that correlates to gdp\n"
   ]
  },
  {
   "cell_type": "code",
   "execution_count": null,
   "metadata": {},
   "outputs": [],
   "source": [
    "#ashley - sports participation by country over time\n"
   ]
  }
 ],
 "metadata": {
  "kernelspec": {
   "display_name": "Python 3",
   "language": "python",
   "name": "python3"
  },
  "language_info": {
   "codemirror_mode": {
    "name": "ipython",
    "version": 3
   },
   "file_extension": ".py",
   "mimetype": "text/x-python",
   "name": "python",
   "nbconvert_exporter": "python",
   "pygments_lexer": "ipython3",
   "version": "3.7.3"
  }
 },
 "nbformat": 4,
 "nbformat_minor": 2
}
