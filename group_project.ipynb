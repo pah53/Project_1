{
 "cells": [
  {
   "cell_type": "code",
   "execution_count": 2,
   "metadata": {},
   "outputs": [
    {
     "name": "stdout",
     "output_type": "stream",
     "text": [
      "   ID       Name Sex   Age  Height  Weight Country        Games  \\\n",
      "0   1  A Dijiang   M  24.0   180.0    80.0   China  1992 Summer   \n",
      "1   1  A Dijiang   M  24.0   180.0    80.0   China  1992 Summer   \n",
      "2   1  A Dijiang   M  24.0   180.0    80.0   China  1992 Summer   \n",
      "3   1  A Dijiang   M  24.0   180.0    80.0   China  1992 Summer   \n",
      "4   1  A Dijiang   M  24.0   180.0    80.0   China  1992 Summer   \n",
      "\n",
      "   Olympics Year  Season       City       Sport                        Event  \\\n",
      "0           1992  Summer  Barcelona  Basketball  Basketball Men's Basketball   \n",
      "1           1992  Summer  Barcelona  Basketball  Basketball Men's Basketball   \n",
      "2           1992  Summer  Barcelona  Basketball  Basketball Men's Basketball   \n",
      "3           1992  Summer  Barcelona  Basketball  Basketball Men's Basketball   \n",
      "4           1992  Summer  Barcelona  Basketball  Basketball Men's Basketball   \n",
      "\n",
      "  Medal  GDP Year  GDP PC  Population  Total GDP  \n",
      "0   NaN         1     NaN     59600.0        0.0  \n",
      "1   NaN      1000     NaN     59000.0        0.0  \n",
      "2   NaN      1500     NaN    103000.0        0.0  \n",
      "3   NaN      1600     NaN    160000.0        0.0  \n",
      "4   NaN      1661   940.0         NaN        0.0  \n"
     ]
    }
   ],
   "source": [
    "# Dependencies and Setup\n",
    "import matplotlib.pyplot as plt\n",
    "import pandas as pd\n",
    "import scipy.stats as st\n",
    "import numpy as np\n",
    "\n",
    "# Read in CSV files\n",
    "olympic_data = \"Resources/olympic_data.csv\"\n",
    "gdp_data = \"Resources/gdp_data.csv\"\n",
    "\n",
    "# Creating data frames\n",
    "olympic_df = pd.read_csv(olympic_data)\n",
    "gdp_df = pd.read_csv(gdp_data)\n",
    "\n",
    "# Combine the data into a single dataset\n",
    "merge_table = pd.merge(olympic_df, gdp_df, on=[[\"Country\", \"Year\"]])\n",
    "print(merge_table.head(5))"
   ]
  },
  {
   "cell_type": "code",
   "execution_count": null,
   "metadata": {},
   "outputs": [],
   "source": []
  },
  {
   "cell_type": "code",
   "execution_count": null,
   "metadata": {},
   "outputs": [],
   "source": []
  }
 ],
 "metadata": {
  "kernelspec": {
   "display_name": "Python 3",
   "language": "python",
   "name": "python3"
  },
  "language_info": {
   "codemirror_mode": {
    "name": "ipython",
    "version": 3
   },
   "file_extension": ".py",
   "mimetype": "text/x-python",
   "name": "python",
   "nbconvert_exporter": "python",
   "pygments_lexer": "ipython3",
   "version": "3.7.3"
  }
 },
 "nbformat": 4,
 "nbformat_minor": 2
}
