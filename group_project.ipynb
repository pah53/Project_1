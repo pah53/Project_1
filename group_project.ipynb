{
 "cells": [
  {
   "cell_type": "code",
   "execution_count": null,
   "metadata": {},
   "outputs": [],
   "source": [
    "# Dependencies and Setup\n",
    "import matplotlib.pyplot as plt\n",
    "import pandas as pd\n",
    "import scipy.stats as st\n",
    "import numpy as np\n",
    "\n",
    "# Study data files\n",
    "olympic_data = \"Resources/olympic_data.csv\"\n",
    "gdp_data = \"Resources/gdp_data.csv\"\n",
    "\n",
    "# Read the mouse data and the study results\n",
    "olympic_df = pd.read_csv(olympic_data)\n",
    "gdp_df = pd.read_csv(gdp_data)\n",
    "\n",
    "# Combine the data into a single dataset\n",
    "merge_table = pd.merge(olympic_df, gdp_df, on=\"country\")\n",
    "print(merge_table)"
   ]
  }
 ],
 "metadata": {
  "kernelspec": {
   "display_name": "Python 3",
   "language": "python",
   "name": "python3"
  },
  "language_info": {
   "codemirror_mode": {
    "name": "ipython",
    "version": 3
   },
   "file_extension": ".py",
   "mimetype": "text/x-python",
   "name": "python",
   "nbconvert_exporter": "python",
   "pygments_lexer": "ipython3",
   "version": "3.7.3"
  }
 },
 "nbformat": 4,
 "nbformat_minor": 2
}
